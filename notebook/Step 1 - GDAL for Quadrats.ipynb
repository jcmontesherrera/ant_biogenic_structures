{
 "cells": [
  {
   "cell_type": "markdown",
   "id": "01f1f42e-977d-4750-abfc-bceef4cb598d",
   "metadata": {},
   "source": [
    "# Towards reproducible analysis of benthos structural complexity: A case study on Antarctic polychaete reefs using action cameras and remotely operated vehicles\n",
    "- Aim: Relationships between substrate type and structural complexity\n",
    "- Goal: Create a complete data pipeline for data analysis and visualization\n",
    "- Authors: J.C. Montes-Herrera, G. Johnstone, J. Stark, N. Hill, V. Cummings, V. Lucieer\n",
    "- Contact: juancarlos.montesherrera@utas.edu.au\n",
    "- Associated publication submitted to journal Remote Sensing in Ecology & Conservation."
   ]
  },
  {
   "cell_type": "markdown",
   "id": "3fb270ef-3c0b-483d-8fcb-7634e50ac0af",
   "metadata": {},
   "source": [
    "## Step 1. Generate 1 x 1 meter quadrat raster files with GDAL\n",
    "- Create new folder called \\rasters and download data https://doi.org/10.5281/zenodo.7115132\n",
    "- Create output folder for quadrat file called \\quadrats\n",
    "- We assume files were exported in the following resolution.\n",
    "    - Orthomosaic: 0.5 mm/pix\n",
    "    - DEM: 1 cm/pix"
   ]
  },
  {
   "cell_type": "code",
   "execution_count": null,
   "id": "54b34ba3-bcda-4e9b-af9f-494c51d76b0f",
   "metadata": {},
   "outputs": [],
   "source": [
    "## Libraries\n",
    "import os\n",
    "import glob\n",
    "from osgeo import gdal"
   ]
  },
  {
   "cell_type": "code",
   "execution_count": null,
   "id": "3a088e01-a0b5-4790-a706-1a919fcefa69",
   "metadata": {},
   "outputs": [],
   "source": [
    "## Create a Path to the data\n",
    "PATH_d = r\"C:\\Users\\jcmontes\\OneDrive - University of Tasmania\\01_Projects_Drive\\Photogrammetry\\AAD2019_EF_PolychaeteReef\\processed_data\\EF-G-AggressiveFilter\\EF-G-PolygonExport - Copy\"\n",
    "\n",
    "os.chdir(PATH_d)\n",
    "\n",
    "dems = []\n",
    "orthos = []\n",
    "\n",
    "for file in glob.glob('*DEM*.tif'):\n",
    "    dems.append(file)\n",
    "\n",
    "for file in glob.glob('*ortho*.tif'):\n",
    "    orthos.append(file)"
   ]
  },
  {
   "cell_type": "code",
   "execution_count": null,
   "id": "11dd19bf-b635-44b4-9f15-b8d34a4b5151",
   "metadata": {},
   "outputs": [],
   "source": [
    "## Prepare PATH to generate output\n",
    "PATH_o = r\"C:\\Users\\jcmontes\\Documents\\GitHub\\ant_biogenic_structures\\data\\quadrats/\""
   ]
  },
  {
   "cell_type": "code",
   "execution_count": null,
   "id": "b8801c9a-9518-4c87-bce9-95bd95442b1c",
   "metadata": {},
   "outputs": [],
   "source": [
    "# Process Digital Elevation Models (1 cm/pixel resolution)\n",
    "for q, raster in enumerate(dems):\n",
    "    dem = gdal.Open(dems[q])\n",
    "\n",
    "    gt = dem.GetGeoTransform()\n",
    "\n",
    "    xmin = gt[0]\n",
    "    ymax = gt[3]\n",
    "    res = gt[1]\n",
    "\n",
    "    # raster lengths\n",
    "    xlen = res * dem.RasterXSize\n",
    "    ylen = res * dem.RasterYSize\n",
    "\n",
    "    # number of tiles in x and y direction\n",
    "    xdiv = int(xlen)\n",
    "    ydiv = int(ylen)\n",
    "\n",
    "    # size of single tile\n",
    "    xsize = xlen/xdiv\n",
    "    ysize = ylen/ydiv\n",
    "\n",
    "    # create lists of x and y coordinates\n",
    "    xsteps = [xmin + xsize * i for i in range(xdiv+1)]\n",
    "    ysteps = [ymax - ysize * i for i in range(ydiv+1)]\n",
    "\n",
    "    for i in range(xdiv):\n",
    "        for j in range(ydiv):\n",
    "            xmin = xsteps[i]\n",
    "            xmax = xsteps[i+1]\n",
    "            ymax = ysteps[j]\n",
    "            ymin = ysteps[j+1]\n",
    "\n",
    "            # gdal translate to subset the input raster\n",
    "            gdal.Translate(PATH_o + str(dems[q][:-4]) + \"_\"+str(i)+str(j)+\".tif\", dem, projWin = (xmin, ymax, xmax, ymin), xRes = res, yRes = -res)\n",
    "\n",
    "    #close the open dataset to flush memory\n",
    "    dem = None\n",
    "    \n",
    "\n",
    "# Now the orthomosaic (0.5 cm/pixel resolution)\n",
    "for q, raster in enumerate(orthos):\n",
    "    ortho = gdal.Open(orthos[q])\n",
    "\n",
    "    gt = ortho.GetGeoTransform()\n",
    "\n",
    "    xmin = gt[0]\n",
    "    ymax = gt[3]\n",
    "    res = gt[1]\n",
    "\n",
    "    # raster lengths\n",
    "    xlen = res * ortho.RasterXSize\n",
    "    ylen = res * ortho.RasterYSize\n",
    "\n",
    "    # number of tiles in x and y direction\n",
    "    xdiv = int(xlen)\n",
    "    ydiv = int(ylen)\n",
    "\n",
    "    # size of single tile\n",
    "    xsize = xlen/xdiv\n",
    "    ysize = ylen/ydiv\n",
    "\n",
    "    # create lists of x and y coordinates\n",
    "    xsteps = [xmin + xsize * i for i in range(xdiv+1)]\n",
    "    ysteps = [ymax - ysize * i for i in range(ydiv+1)]\n",
    "\n",
    "    for i in range(xdiv):\n",
    "        for j in range(ydiv):\n",
    "            xmin = xsteps[i]\n",
    "            xmax = xsteps[i+1]\n",
    "            ymax = ysteps[j]\n",
    "            ymin = ysteps[j+1]\n",
    "\n",
    "            # gdal translate to subset the input raster\n",
    "            gdal.Translate(PATH_o + str(orthos[q][:-4]) + \"_\"+str(i)+str(j)+\".tif\", ortho, projWin = (xmin, ymax, xmax, ymin), xRes = res, yRes = -res)\n",
    "\n",
    "    #close the open dataset to flush memory\n",
    "    ortho = None"
   ]
  }
 ],
 "metadata": {
  "kernelspec": {
   "display_name": "Python 3 (ipykernel)",
   "language": "python",
   "name": "python3"
  },
  "language_info": {
   "codemirror_mode": {
    "name": "ipython",
    "version": 3
   },
   "file_extension": ".py",
   "mimetype": "text/x-python",
   "name": "python",
   "nbconvert_exporter": "python",
   "pygments_lexer": "ipython3",
   "version": "3.9.13"
  }
 },
 "nbformat": 4,
 "nbformat_minor": 5
}
